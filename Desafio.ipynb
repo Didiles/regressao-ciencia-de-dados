{
 "cells": [
  {
   "attachments": {},
   "cell_type": "markdown",
   "metadata": {},
   "source": [
    "# **SCC0277 - Competições de Ciências de Dados**\n",
    "\n",
    "**Desafio:** Regressão\n",
    "\n",
    "**Aluno:** Diego Giaretta de Paulo\n",
    "\n",
    "**Universidade de São Paulo (USP)**"
   ]
  },
  {
   "attachments": {},
   "cell_type": "markdown",
   "metadata": {},
   "source": [
    "### Venda de cervejas artesanais\n",
    "\n",
    "\n",
    "Dados sobre as vendas de cervejas artesanais em um bar russo foi disponibilizado para que seja feita uma análise de regressão, com a variável resposta podendo ser elegida pelo autor. Sendo assim, neste trabalho a variável escolhida foi o percentual de markup, ou seja, a quociente entre o valor de venda e os custos envolvidos na transação.\n",
    "\n",
    "Os dados possuem uma grande quantidade de valores vazios que serão tratados ao longo do problema."
   ]
  },
  {
   "cell_type": "code",
   "execution_count": 2,
   "metadata": {},
   "outputs": [],
   "source": [
    "import pandas as pd\n",
    "import warnings\n",
    "warnings.filterwarnings('ignore')\n",
    "\n",
    "products = pd.read_csv('Product_range.csv') #lendo os dados\n",
    "transactions = pd.read_csv('Transactions.csv')\n",
    "\n",
    "df_final = pd.merge(transactions, products, \n",
    "                    left_on='Product_code', \n",
    "                    right_on='Product_code', \n",
    "                    how='left') #mesclando os dados de produtos e transações"
   ]
  },
  {
   "attachments": {},
   "cell_type": "markdown",
   "metadata": {},
   "source": [
    "### Engenharia de dados"
   ]
  },
  {
   "cell_type": "code",
   "execution_count": 3,
   "metadata": {},
   "outputs": [
    {
     "data": {
      "text/html": [
       "<div>\n",
       "<style scoped>\n",
       "    .dataframe tbody tr th:only-of-type {\n",
       "        vertical-align: middle;\n",
       "    }\n",
       "\n",
       "    .dataframe tbody tr th {\n",
       "        vertical-align: top;\n",
       "    }\n",
       "\n",
       "    .dataframe thead th {\n",
       "        text-align: right;\n",
       "    }\n",
       "</style>\n",
       "<table border=\"1\" class=\"dataframe\">\n",
       "  <thead>\n",
       "    <tr style=\"text-align: right;\">\n",
       "      <th></th>\n",
       "      <th>Date_and_time_of_unloading</th>\n",
       "      <th>Product_code</th>\n",
       "      <th>Amount</th>\n",
       "      <th>Sale_amount</th>\n",
       "      <th>Discount_amount</th>\n",
       "      <th>Profit</th>\n",
       "      <th>Percentage_markup</th>\n",
       "      <th>Discount_percentage</th>\n",
       "      <th>Vendor_code</th>\n",
       "      <th>Name</th>\n",
       "      <th>Retail_price</th>\n",
       "      <th>Base_unit</th>\n",
       "      <th>Country_of_Origin</th>\n",
       "      <th>Size</th>\n",
       "      <th>ABV</th>\n",
       "    </tr>\n",
       "  </thead>\n",
       "  <tbody>\n",
       "    <tr>\n",
       "      <th>0</th>\n",
       "      <td>2020-01-01 23:00:00</td>\n",
       "      <td>144</td>\n",
       "      <td>1.0</td>\n",
       "      <td>280.00</td>\n",
       "      <td>NaN</td>\n",
       "      <td>155.00</td>\n",
       "      <td>124.00</td>\n",
       "      <td>NaN</td>\n",
       "      <td>AF Brew</td>\n",
       "      <td>AF Brew Zimnjaja Melanholija Coffee + Vanilla ...</td>\n",
       "      <td>280.0</td>\n",
       "      <td>Pieces</td>\n",
       "      <td>Russia</td>\n",
       "      <td>0.33</td>\n",
       "      <td>10.3</td>\n",
       "    </tr>\n",
       "    <tr>\n",
       "      <th>1</th>\n",
       "      <td>2020-01-01 23:00:00</td>\n",
       "      <td>209</td>\n",
       "      <td>2.0</td>\n",
       "      <td>545.73</td>\n",
       "      <td>294.27</td>\n",
       "      <td>75.73</td>\n",
       "      <td>16.11</td>\n",
       "      <td>35.03</td>\n",
       "      <td>Pohjala</td>\n",
       "      <td>Pohjala Mutant Disco / IPA / 6.8% / 0,/ but</td>\n",
       "      <td>420.0</td>\n",
       "      <td>Pieces</td>\n",
       "      <td>Estonia</td>\n",
       "      <td>0.33</td>\n",
       "      <td>6.8</td>\n",
       "    </tr>\n",
       "    <tr>\n",
       "      <th>2</th>\n",
       "      <td>2020-01-01 23:00:00</td>\n",
       "      <td>213</td>\n",
       "      <td>2.0</td>\n",
       "      <td>1265.05</td>\n",
       "      <td>34.95</td>\n",
       "      <td>653.05</td>\n",
       "      <td>106.71</td>\n",
       "      <td>2.69</td>\n",
       "      <td>Kerisac</td>\n",
       "      <td>Cider Kerisac Cidre Breton Brut Traditionnel /...</td>\n",
       "      <td>650.0</td>\n",
       "      <td>Pieces</td>\n",
       "      <td>France</td>\n",
       "      <td>1.00</td>\n",
       "      <td>6.0</td>\n",
       "    </tr>\n",
       "    <tr>\n",
       "      <th>3</th>\n",
       "      <td>2020-01-01 23:00:00</td>\n",
       "      <td>217</td>\n",
       "      <td>1.0</td>\n",
       "      <td>630.00</td>\n",
       "      <td>70.00</td>\n",
       "      <td>220.50</td>\n",
       "      <td>53.85</td>\n",
       "      <td>10.00</td>\n",
       "      <td>Savoie</td>\n",
       "      <td>Cider Savoie Cidre of Apples and Pears Brut / ...</td>\n",
       "      <td>870.0</td>\n",
       "      <td>Pieces</td>\n",
       "      <td>France</td>\n",
       "      <td>0.75</td>\n",
       "      <td>4.5</td>\n",
       "    </tr>\n",
       "    <tr>\n",
       "      <th>4</th>\n",
       "      <td>2020-01-01 23:00:00</td>\n",
       "      <td>222</td>\n",
       "      <td>2.0</td>\n",
       "      <td>1104.75</td>\n",
       "      <td>195.25</td>\n",
       "      <td>393.75</td>\n",
       "      <td>55.38</td>\n",
       "      <td>15.02</td>\n",
       "      <td>Bellot</td>\n",
       "      <td>Cider Bellot Cidre de Cru du Pays d’Othe Brut ...</td>\n",
       "      <td>770.0</td>\n",
       "      <td>Pieces</td>\n",
       "      <td>France</td>\n",
       "      <td>0.75</td>\n",
       "      <td>5.0</td>\n",
       "    </tr>\n",
       "  </tbody>\n",
       "</table>\n",
       "</div>"
      ],
      "text/plain": [
       "  Date_and_time_of_unloading  Product_code  Amount  Sale_amount   \n",
       "0        2020-01-01 23:00:00           144     1.0       280.00  \\\n",
       "1        2020-01-01 23:00:00           209     2.0       545.73   \n",
       "2        2020-01-01 23:00:00           213     2.0      1265.05   \n",
       "3        2020-01-01 23:00:00           217     1.0       630.00   \n",
       "4        2020-01-01 23:00:00           222     2.0      1104.75   \n",
       "\n",
       "   Discount_amount  Profit  Percentage_markup  Discount_percentage   \n",
       "0              NaN  155.00             124.00                  NaN  \\\n",
       "1           294.27   75.73              16.11                35.03   \n",
       "2            34.95  653.05             106.71                 2.69   \n",
       "3            70.00  220.50              53.85                10.00   \n",
       "4           195.25  393.75              55.38                15.02   \n",
       "\n",
       "  Vendor_code                                               Name   \n",
       "0     AF Brew  AF Brew Zimnjaja Melanholija Coffee + Vanilla ...  \\\n",
       "1     Pohjala        Pohjala Mutant Disco / IPA / 6.8% / 0,/ but   \n",
       "2     Kerisac  Cider Kerisac Cidre Breton Brut Traditionnel /...   \n",
       "3      Savoie  Cider Savoie Cidre of Apples and Pears Brut / ...   \n",
       "4      Bellot  Cider Bellot Cidre de Cru du Pays d’Othe Brut ...   \n",
       "\n",
       "   Retail_price Base_unit Country_of_Origin  Size   ABV  \n",
       "0         280.0    Pieces            Russia  0.33  10.3  \n",
       "1         420.0    Pieces           Estonia  0.33   6.8  \n",
       "2         650.0    Pieces            France  1.00   6.0  \n",
       "3         870.0    Pieces            France  0.75   4.5  \n",
       "4         770.0    Pieces            France  0.75   5.0  "
      ]
     },
     "execution_count": 3,
     "metadata": {},
     "output_type": "execute_result"
    }
   ],
   "source": [
    "df_final = df_final[(df_final.Base_unit == \"Liters\") | (df_final.Base_unit == \"Pieces\")] #filtrando apenas cervejas\n",
    "df_final.head() "
   ]
  },
  {
   "attachments": {},
   "cell_type": "markdown",
   "metadata": {},
   "source": [
    "Como é possível observar, estes dados apresentam uma mescla entre as informações de transações e também as informações de cada produto transacionado. É notável que dentre as informações tem-se o valor da venda, do lucro e do preço de varejo, as porcentagens de markup e desconto e descritivos das cervejas como ABV, país de origem, marca e nome da cervjea."
   ]
  },
  {
   "cell_type": "code",
   "execution_count": 4,
   "metadata": {},
   "outputs": [
    {
     "data": {
      "text/html": [
       "<div>\n",
       "<style scoped>\n",
       "    .dataframe tbody tr th:only-of-type {\n",
       "        vertical-align: middle;\n",
       "    }\n",
       "\n",
       "    .dataframe tbody tr th {\n",
       "        vertical-align: top;\n",
       "    }\n",
       "\n",
       "    .dataframe thead th {\n",
       "        text-align: right;\n",
       "    }\n",
       "</style>\n",
       "<table border=\"1\" class=\"dataframe\">\n",
       "  <thead>\n",
       "    <tr style=\"text-align: right;\">\n",
       "      <th></th>\n",
       "      <th>Vendor_code</th>\n",
       "      <th>Retail_price</th>\n",
       "      <th>Base_unit</th>\n",
       "      <th>Country_of_Origin</th>\n",
       "      <th>Size</th>\n",
       "      <th>ABV</th>\n",
       "      <th>target</th>\n",
       "    </tr>\n",
       "  </thead>\n",
       "  <tbody>\n",
       "    <tr>\n",
       "      <th>0</th>\n",
       "      <td>AF Brew</td>\n",
       "      <td>280.0</td>\n",
       "      <td>Pieces</td>\n",
       "      <td>Russia</td>\n",
       "      <td>0.330</td>\n",
       "      <td>10.3</td>\n",
       "      <td>1.2400</td>\n",
       "    </tr>\n",
       "    <tr>\n",
       "      <th>1</th>\n",
       "      <td>Pohjala</td>\n",
       "      <td>420.0</td>\n",
       "      <td>Pieces</td>\n",
       "      <td>Estonia</td>\n",
       "      <td>0.330</td>\n",
       "      <td>6.8</td>\n",
       "      <td>0.1611</td>\n",
       "    </tr>\n",
       "    <tr>\n",
       "      <th>2</th>\n",
       "      <td>Kerisac</td>\n",
       "      <td>650.0</td>\n",
       "      <td>Pieces</td>\n",
       "      <td>France</td>\n",
       "      <td>1.000</td>\n",
       "      <td>6.0</td>\n",
       "      <td>1.0671</td>\n",
       "    </tr>\n",
       "    <tr>\n",
       "      <th>3</th>\n",
       "      <td>Savoie</td>\n",
       "      <td>870.0</td>\n",
       "      <td>Pieces</td>\n",
       "      <td>France</td>\n",
       "      <td>0.750</td>\n",
       "      <td>4.5</td>\n",
       "      <td>0.5385</td>\n",
       "    </tr>\n",
       "    <tr>\n",
       "      <th>4</th>\n",
       "      <td>Bellot</td>\n",
       "      <td>770.0</td>\n",
       "      <td>Pieces</td>\n",
       "      <td>France</td>\n",
       "      <td>0.750</td>\n",
       "      <td>5.0</td>\n",
       "      <td>0.5538</td>\n",
       "    </tr>\n",
       "    <tr>\n",
       "      <th>5</th>\n",
       "      <td>Boon</td>\n",
       "      <td>540.0</td>\n",
       "      <td>Pieces</td>\n",
       "      <td>Belgium</td>\n",
       "      <td>0.375</td>\n",
       "      <td>7.0</td>\n",
       "      <td>0.0047</td>\n",
       "    </tr>\n",
       "    <tr>\n",
       "      <th>6</th>\n",
       "      <td>Verhaeghe</td>\n",
       "      <td>900.0</td>\n",
       "      <td>Pieces</td>\n",
       "      <td>Belgium</td>\n",
       "      <td>0.750</td>\n",
       "      <td>6.2</td>\n",
       "      <td>0.2008</td>\n",
       "    </tr>\n",
       "    <tr>\n",
       "      <th>7</th>\n",
       "      <td>Founders</td>\n",
       "      <td>420.0</td>\n",
       "      <td>Pieces</td>\n",
       "      <td>USA</td>\n",
       "      <td>0.355</td>\n",
       "      <td>5.7</td>\n",
       "      <td>0.0775</td>\n",
       "    </tr>\n",
       "    <tr>\n",
       "      <th>8</th>\n",
       "      <td>BrewDog</td>\n",
       "      <td>540.0</td>\n",
       "      <td>Pieces</td>\n",
       "      <td>United Kingdom</td>\n",
       "      <td>0.660</td>\n",
       "      <td>3.8</td>\n",
       "      <td>0.1987</td>\n",
       "    </tr>\n",
       "    <tr>\n",
       "      <th>9</th>\n",
       "      <td>Schneider Weisse</td>\n",
       "      <td>370.0</td>\n",
       "      <td>Pieces</td>\n",
       "      <td>Germany</td>\n",
       "      <td>0.500</td>\n",
       "      <td>8.2</td>\n",
       "      <td>1.4737</td>\n",
       "    </tr>\n",
       "  </tbody>\n",
       "</table>\n",
       "</div>"
      ],
      "text/plain": [
       "        Vendor_code  Retail_price Base_unit Country_of_Origin   Size   ABV   \n",
       "0           AF Brew         280.0    Pieces            Russia  0.330  10.3  \\\n",
       "1           Pohjala         420.0    Pieces           Estonia  0.330   6.8   \n",
       "2           Kerisac         650.0    Pieces            France  1.000   6.0   \n",
       "3            Savoie         870.0    Pieces            France  0.750   4.5   \n",
       "4            Bellot         770.0    Pieces            France  0.750   5.0   \n",
       "5              Boon         540.0    Pieces           Belgium  0.375   7.0   \n",
       "6         Verhaeghe         900.0    Pieces           Belgium  0.750   6.2   \n",
       "7          Founders         420.0    Pieces               USA  0.355   5.7   \n",
       "8           BrewDog         540.0    Pieces    United Kingdom  0.660   3.8   \n",
       "9  Schneider Weisse         370.0    Pieces           Germany  0.500   8.2   \n",
       "\n",
       "   target  \n",
       "0  1.2400  \n",
       "1  0.1611  \n",
       "2  1.0671  \n",
       "3  0.5385  \n",
       "4  0.5538  \n",
       "5  0.0047  \n",
       "6  0.2008  \n",
       "7  0.0775  \n",
       "8  0.1987  \n",
       "9  1.4737  "
      ]
     },
     "execution_count": 4,
     "metadata": {},
     "output_type": "execute_result"
    }
   ],
   "source": [
    "model_df = df_final.drop(['Date_and_time_of_unloading',\t'Product_code', 'Discount_amount', \n",
    "                          'Profit', 'Discount_percentage', 'Name'], axis=1) #removendo colunas indesajaveis\n",
    "model_df['target'] = model_df['Percentage_markup']/100 #ajustando a variável de \n",
    "model_df.drop(['Amount', 'Sale_amount', 'Percentage_markup'], axis=1, inplace=True)\n",
    "model_df.head(10)"
   ]
  },
  {
   "attachments": {},
   "cell_type": "markdown",
   "metadata": {},
   "source": [
    "Após a limpeza dos dados, obtivemos estas features para o modelo. Sendo a porcentagem de markup a variável de interesse neste problema."
   ]
  },
  {
   "cell_type": "code",
   "execution_count": 5,
   "metadata": {},
   "outputs": [
    {
     "name": "stdout",
     "output_type": "stream",
     "text": [
      "Quantidade de dados faltantes\n"
     ]
    },
    {
     "data": {
      "text/plain": [
       "Vendor_code          6324\n",
       "Retail_price            3\n",
       "Base_unit               0\n",
       "Country_of_Origin    8507\n",
       "Size                 5793\n",
       "ABV                  5807\n",
       "target               1939\n",
       "dtype: int64"
      ]
     },
     "execution_count": 5,
     "metadata": {},
     "output_type": "execute_result"
    }
   ],
   "source": [
    "print('Quantidade de dados faltantes')\n",
    "model_df.isna().sum()"
   ]
  },
  {
   "attachments": {},
   "cell_type": "markdown",
   "metadata": {},
   "source": [
    "Como pode-se notar, o conjunto de dados conta com um valor expressivo de valores ausentes, inclusive na nossa variável de interesse 'target'. Para isso, todos as instâncias sem a porcentagem de markup serão removidas dos dados do modelo. Para lidar com os valores ausentes nas features numéricas (ABV, size e retail_price), as medianas das respectivas colunas serão utilizadas para substituir os dados ausentes."
   ]
  },
  {
   "cell_type": "code",
   "execution_count": 6,
   "metadata": {},
   "outputs": [],
   "source": [
    "model_df.dropna(subset=['target'], inplace=True)"
   ]
  },
  {
   "cell_type": "code",
   "execution_count": 7,
   "metadata": {},
   "outputs": [],
   "source": [
    "def creating_dummies(column, specific_value): #função para criar dummies específicas de cada coluna\n",
    "    new_column = []\n",
    "    for row in model_df[column]:\n",
    "        if row == specific_value: new_column.append(1)\n",
    "        else: new_column.append(0)\n",
    "\n",
    "    model_df[specific_value] = new_column"
   ]
  },
  {
   "cell_type": "code",
   "execution_count": 8,
   "metadata": {},
   "outputs": [],
   "source": [
    "#countries = ['Russia', 'Belgium', 'Germany', 'United Kingdom', 'USA', 'Spain', 'Sweden', 'France', 'Denmark', 'Netherlands']\n",
    "#for i in countries:\n",
    "    #creating_dummies('Country_of_Origin', i)"
   ]
  },
  {
   "cell_type": "code",
   "execution_count": 9,
   "metadata": {},
   "outputs": [],
   "source": [
    "brands = ['Jaws', 'AF Brew', 'Zagovor', 'Weihenstephaner', 'Sobolev', 'Verhaeghe', 'Saldens', 'BrewDog', 'Bakunin', 'Red Button']\n",
    "for i in brands:\n",
    "    creating_dummies('Vendor_code', i)"
   ]
  },
  {
   "attachments": {},
   "cell_type": "markdown",
   "metadata": {},
   "source": [
    "Para lidar com as váriaveis categóricas, a abardogem escolhida foi a criação de váriaveis dummies, ou seja, cada categoria dentro de país de origem, marca e medida receberá uma coluna booleana (verdadeiro ou falso) indicando se aquela instância é ou não daquela categoria. Para cada país e medida foi criada uma variável dummy e somente para as 10 marcas de cervejas com mais produtos vendidos."
   ]
  },
  {
   "cell_type": "code",
   "execution_count": 10,
   "metadata": {},
   "outputs": [],
   "source": [
    "model_df = pd.get_dummies(model_df, columns=['Base_unit', 'Country_of_Origin'], drop_first=False, dtype=int)"
   ]
  },
  {
   "cell_type": "code",
   "execution_count": 11,
   "metadata": {},
   "outputs": [],
   "source": [
    "model_df.drop(['Vendor_code'], axis=1, inplace=True)"
   ]
  },
  {
   "cell_type": "code",
   "execution_count": 12,
   "metadata": {},
   "outputs": [],
   "source": [
    "model_df = model_df.fillna(model_df.median())"
   ]
  },
  {
   "cell_type": "code",
   "execution_count": 13,
   "metadata": {},
   "outputs": [],
   "source": [
    "from sklearn.model_selection import train_test_split\n",
    "X_train, X_test, y_train, y_test = train_test_split(model_df.drop('target', axis=1), model_df['target'], test_size=0.2, random_state=42)"
   ]
  },
  {
   "attachments": {},
   "cell_type": "markdown",
   "metadata": {},
   "source": [
    "### Modelagem"
   ]
  },
  {
   "attachments": {},
   "cell_type": "markdown",
   "metadata": {},
   "source": [
    "Para a modelagem, os dados foram divididos em 80% para treino e 20% para teste."
   ]
  },
  {
   "cell_type": "code",
   "execution_count": 14,
   "metadata": {},
   "outputs": [],
   "source": [
    "from sklearn.preprocessing import StandardScaler\n",
    "import numpy as np\n",
    "\n",
    "#aplicando o scaler\n",
    "\n",
    "scaler = StandardScaler()\n",
    "X_train = scaler.fit_transform(X_train)\n",
    "X_test = scaler.transform(X_test)\n",
    "\n",
    "#convertendo os dados para dataframe\n",
    "\n",
    "X_train = pd.DataFrame(X_train).set_index(np.arange(len(X_train)))\n",
    "X_test = pd.DataFrame(X_test).set_index(np.arange(len(X_test)))\n",
    "y_train = pd.DataFrame(y_train).set_index(np.arange(len(y_train)))\n",
    "y_test = pd.DataFrame(y_test).set_index(np.arange(len(y_test)))"
   ]
  },
  {
   "attachments": {},
   "cell_type": "markdown",
   "metadata": {},
   "source": [
    "Para a construção de uma baseline, os modelos de regressão linear, KNN e SVM foram selecionados e a seguir são disponibilizados os seus resultados."
   ]
  },
  {
   "cell_type": "code",
   "execution_count": null,
   "metadata": {},
   "outputs": [],
   "source": [
    "from sklearn.model_selection import GridSearchCV\n",
    "from sklearn.linear_model import LinearRegression\n",
    "from sklearn.neighbors import KNeighborsRegressor\n",
    "from sklearn.svm import LinearSVR\n",
    "\n",
    "y_train = np.array(y_train).reshape(-1)\n",
    "#treinando os modelos\n",
    "regr = LinearRegression()\n",
    "knn = KNeighborsRegressor(n_neighbors=3)\n",
    "svm = LinearSVR(epsilon = 0.5)\n",
    "\n",
    "regr.fit(X_train, y_train)\n",
    "knn.fit(X_train, y_train)\n",
    "svm.fit(X_train, y_train)\n"
   ]
  },
  {
   "cell_type": "code",
   "execution_count": 16,
   "metadata": {},
   "outputs": [
    {
     "name": "stdout",
     "output_type": "stream",
     "text": [
      "Linear Regression Mean squared error: 203.33\n",
      "Linear Regression R Score: 0.00\n",
      "KNN Mean squared error: 361.90\n",
      "KNN R Score: -0.77\n",
      "SVM Mean squared error: 204.11\n",
      "SVM R Score: -0.00\n"
     ]
    }
   ],
   "source": [
    "from sklearn.metrics import mean_squared_error, r2_score\n",
    "\n",
    "y_pred = regr.predict(X_test)\n",
    "print(\"Linear Regression Mean squared error: %.2f\" % mean_squared_error(y_test, y_pred))\n",
    "print(\"Linear Regression R Score: %.2f\" % r2_score(y_test, y_pred))\n",
    "\n",
    "y_pred = knn.predict(X_test)\n",
    "print(\"KNN Mean squared error: %.2f\" % mean_squared_error(y_test, y_pred))\n",
    "print(\"KNN R Score: %.2f\" % r2_score(y_test, y_pred))\n",
    "\n",
    "y_pred = svm.predict(X_test)\n",
    "print(\"SVM Mean squared error: %.2f\" % mean_squared_error(y_test, y_pred))\n",
    "print(\"SVM R Score: %.2f\" % r2_score(y_test, y_pred))"
   ]
  },
  {
   "attachments": {},
   "cell_type": "markdown",
   "metadata": {},
   "source": [
    "Como é possível notar, pela baseline criada, será necessário uma melhor coleta de dados e buscar novas abordagens. Um modelo CatBoost será implementado para verificar uma possível melhora dos resultados, mas é notável que estas váriaveis ainda são pouco relevantes para a resolução deste problema."
   ]
  },
  {
   "cell_type": "code",
   "execution_count": 17,
   "metadata": {},
   "outputs": [
    {
     "name": "stdout",
     "output_type": "stream",
     "text": [
      "CatBoost Mean squared error: 200.85\n",
      "CatBoost R Score: 0.02\n"
     ]
    }
   ],
   "source": [
    "from sklearn.model_selection import GridSearchCV\n",
    "from catboost import CatBoostRegressor\n",
    "\n",
    "#Definindo o modelo\n",
    "cat = CatBoostRegressor(random_state=42, silent=True)\n",
    "\n",
    "#selecionando parâmetros para melhor os hiperparâmetros\n",
    "cat_params = {'iterations': [100, 150, 300],    \n",
    "              'max_depth': [None, 3, 4, 5, 8],             \n",
    "              'subsample': [0.3, 0.5, 0.8, 1.0], \n",
    "              'colsample_bylevel': [0.3, 0.5, 1.0]}\n",
    "\n",
    "#aplicando o GridSearch para a escolha dos melhores hiperparâmetros\n",
    "cat_grid = GridSearchCV(cat, cat_params, cv=5, verbose=0, n_jobs=-1)\n",
    "\n",
    "#fittando o modelo\n",
    "cat_grid.fit(X_train, y_train)\n",
    "\n",
    "y_pred = cat_grid.predict(X_test)\n",
    "\n",
    "print(\"CatBoost Mean squared error: %.2f\" % mean_squared_error(y_test, y_pred))\n",
    "print(\"CatBoost R Score: %.2f\" % r2_score(y_test, y_pred))"
   ]
  },
  {
   "attachments": {},
   "cell_type": "markdown",
   "metadata": {},
   "source": [
    "Com resultados também não animadores, para uma melhora este vendedor de cervejas artesanais deverá passar por uma nova coleta de dados e buscar uma nova abordagem, por exemplo uma abordagem no contexto de séries temporais, aproveitando os dados hisóricos indicados na análise exploratória de dados."
   ]
  },
  {
   "attachments": {},
   "cell_type": "markdown",
   "metadata": {},
   "source": [
    "### Conclusão"
   ]
  },
  {
   "attachments": {},
   "cell_type": "markdown",
   "metadata": {},
   "source": [
    "Neste gráfico é possível enxergar a influência das váriaveis no modelo, indicando um desempenho razoável apenas das váriaveis numéricas, principalmente o preço de varejo. Podemos notar que apenas cervejas apresentam um bom desempenho na importância das váriaveis."
   ]
  },
  {
   "cell_type": "code",
   "execution_count": 18,
   "metadata": {},
   "outputs": [
    {
     "data": {
      "text/plain": [
       "<Axes: >"
      ]
     },
     "execution_count": 18,
     "metadata": {},
     "output_type": "execute_result"
    },
    {
     "data": {
      "image/png": "[encoded data removed]",
      "text/plain": [
       "<Figure size 640x480 with 1 Axes>"
      ]
     },
     "metadata": {},
     "output_type": "display_data"
    }
   ],
   "source": [
    "feat_importances = pd.Series(cat_grid.best_estimator_.feature_importances_, index=model_df.drop('target', axis=1).columns)\n",
    "feat_importances.nlargest(10).plot(kind='barh')"
   ]
  }
 ],
 "metadata": {
  "kernelspec": {
   "display_name": "Python 3",
   "language": "python",
   "name": "python3"
  },
  "language_info": {
   "codemirror_mode": {
    "name": "ipython",
    "version": 3
   },
   "file_extension": ".py",
   "mimetype": "text/x-python",
   "name": "python",
   "nbconvert_exporter": "python",
   "pygments_lexer": "ipython3",
   "version": "3.11.3"
  },
  "orig_nbformat": 4
 },
 "nbformat": 4,
 "nbformat_minor": 2
}
